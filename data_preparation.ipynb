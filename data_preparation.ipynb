{
 "cells": [
  {
   "metadata": {},
   "cell_type": "markdown",
   "source": [
    "# Download the dataset\n",
    "\n",
    "git lfs install  # Install Git LFS (Large File Storage), needed for models/datasets\n",
    "\n",
    "git clone https://huggingface.co/datasets/DefectSpectrum/Defect_Spectrum\n",
    "\n"
   ],
   "id": "fd784f512b08190"
  },
  {
   "metadata": {},
   "cell_type": "markdown",
   "source": "## load the data as pandas df",
   "id": "4af779e0340984b1"
  },
  {
   "metadata": {
    "ExecuteTime": {
     "end_time": "2025-05-28T10:31:35.655030Z",
     "start_time": "2025-05-28T10:31:35.438985Z"
    }
   },
   "cell_type": "code",
   "source": [
    "import os\n",
    "import pandas as pd\n",
    "\n",
    "normal_datasets=[\"DS-Cotton-Fabric\",\"DS-DAGM\",\"synthetic_Cotton_Fabric\"]\n",
    "variant_datasets=[\"DS-VISION\",\"synthetic_MVTec\",\"synthetic_VISION\"]\n",
    "captioned_dataset=[\"DS-MVTec\"]\n",
    "\n",
    "\n",
    "# Root directory\n",
    "root_dir = \"./Defect_Spectrum\"\n",
    "\n",
    "# Storage for rows\n",
    "entries = []\n",
    "\n",
    "\n",
    "def read_defect(dataset_path, dataset_name, type, variant=\"None\", part=\"None\"):\n",
    "    data = []\n",
    "\n",
    "    if not os.path.isdir(dataset_path):\n",
    "        return data  # Skip if not a directory\n",
    "\n",
    "    for file in os.listdir(dataset_path):\n",
    "        if file.lower().endswith(('.png', '.jpg', '.jpeg', '.bmp')):\n",
    "            data.append({\n",
    "                \"file_path\": os.path.join(dataset_path, file),\n",
    "                \"file_name\": file,\n",
    "                \"dataset\": dataset_name,\n",
    "                \"type\": type,\n",
    "                \"variant\": variant,\n",
    "                \"part\" : part\n",
    "            })\n",
    "    return data\n",
    "\n",
    "for dataset in os.listdir(root_dir):\n",
    "    dataset_path = os.path.join(root_dir, dataset)\n",
    "\n",
    "    if dataset in normal_datasets:\n",
    "        for type in os.listdir(dataset_path):\n",
    "            path=os.path.join(dataset_path,type)\n",
    "            t = os.path.basename(path)\n",
    "            entries.extend(read_defect(path, dataset,t))\n",
    "\n",
    "    elif dataset in variant_datasets:\n",
    "        for variant in os.listdir(dataset_path):\n",
    "            variant_path=os.path.join(dataset_path,variant)\n",
    "            if os.path.isdir(variant_path):\n",
    "                for type in os.listdir(variant_path):\n",
    "                    path=os.path.join(variant_path,type)\n",
    "                    t = os.path.basename(path)\n",
    "                    entries.extend(read_defect(path, dataset, t ,variant=variant))\n",
    "\n",
    "    elif dataset in captioned_dataset:\n",
    "         for variant in os.listdir(dataset_path):\n",
    "            variant_path=os.path.join(dataset_path,variant)\n",
    "            if os.path.isdir(variant_path):\n",
    "                for type in os.listdir(variant_path):\n",
    "                    type_path=os.path.join(variant_path,type)\n",
    "                    if os.path.isdir(type_path):\n",
    "                        for part in os.listdir(type_path):\n",
    "                            path=os.path.join(type_path,part)\n",
    "                            t= os.path.basename(type_path)\n",
    "                            entries.extend(read_defect(path, dataset, t, variant=variant, part=part))\n",
    "\n",
    "df = pd.DataFrame(entries)\n",
    "len(df)"
   ],
   "id": "93d56876cd76a7f0",
   "outputs": [
    {
     "data": {
      "text/plain": [
       "13069"
      ]
     },
     "execution_count": 1,
     "metadata": {},
     "output_type": "execute_result"
    }
   ],
   "execution_count": 1
  },
  {
   "metadata": {
    "ExecuteTime": {
     "end_time": "2025-05-28T10:31:35.672353Z",
     "start_time": "2025-05-28T10:31:35.667666Z"
    }
   },
   "cell_type": "code",
   "source": [
    "df[\"file_name\"]=df.file_name.apply(lambda x: x.replace(\"_rgb\", \"\").replace(\"_rbg\", \"\").replace(\"_mask\", \"\").replace(\"_image\", \"\").replace(\"_converted\", \"\") )\n",
    "len(df)"
   ],
   "id": "3cf84c64b7fefc99",
   "outputs": [
    {
     "data": {
      "text/plain": [
       "13069"
      ]
     },
     "execution_count": 2,
     "metadata": {},
     "output_type": "execute_result"
    }
   ],
   "execution_count": 2
  },
  {
   "metadata": {
    "ExecuteTime": {
     "end_time": "2025-05-28T10:31:35.714527Z",
     "start_time": "2025-05-28T10:31:35.711244Z"
    }
   },
   "cell_type": "code",
   "source": [
    "df = df[df[\"type\"].isin([\"image\", \"images\", \"masks\", \"rgb_mask\", \"rbg_mask\"])]\n",
    "len(df)"
   ],
   "id": "8bd815eaa2462a3",
   "outputs": [
    {
     "data": {
      "text/plain": [
       "8850"
      ]
     },
     "execution_count": 3,
     "metadata": {},
     "output_type": "execute_result"
    }
   ],
   "execution_count": 3
  },
  {
   "metadata": {
    "ExecuteTime": {
     "end_time": "2025-05-28T10:31:35.737745Z",
     "start_time": "2025-05-28T10:31:35.734930Z"
    }
   },
   "cell_type": "code",
   "source": [
    "def fix_type(s):\n",
    "    if s ==\"images\":\n",
    "        return \"image\"\n",
    "    elif s ==\"masks\":\n",
    "        return \"mask\"\n",
    "    elif s==\"rbg_mask\":\n",
    "        return \"mask\"\n",
    "    elif s==\"rgb_mask\":\n",
    "        return \"mask\"\n",
    "    else:\n",
    "        return s\n",
    "\n",
    "df.loc[:, \"type\"] = df[\"type\"].apply(fix_type)"
   ],
   "id": "fec902a5712d04e4",
   "outputs": [],
   "execution_count": 4
  },
  {
   "metadata": {
    "ExecuteTime": {
     "end_time": "2025-05-28T10:31:35.784448Z",
     "start_time": "2025-05-28T10:31:35.773245Z"
    }
   },
   "cell_type": "code",
   "source": [
    "result = df.pivot_table(\n",
    "    index=['file_name', 'dataset', 'variant', 'part'],\n",
    "    columns='type',\n",
    "    values='file_path',\n",
    "    aggfunc='first'\n",
    ").reset_index()\n",
    "result"
   ],
   "id": "2876d8f4c446cbbf",
   "outputs": [
    {
     "data": {
      "text/plain": [
       "type                 file_name          dataset variant           part  \\\n",
       "0                        0.png          DS-DAGM    None           None   \n",
       "1                      000.png         DS-MVTec  bottle   broken_large   \n",
       "2                      000.png         DS-MVTec  bottle   broken_small   \n",
       "3                      000.png         DS-MVTec  bottle  contamination   \n",
       "4                      000.png         DS-MVTec  bottle           good   \n",
       "...                        ...              ...     ...            ...   \n",
       "5429  samples_000016_1_0_1.png  synthetic_MVTec   screw           None   \n",
       "5430  samples_000016_1_1_1.png  synthetic_MVTec   screw           None   \n",
       "5431  samples_000017_0_0_1.png  synthetic_MVTec   screw           None   \n",
       "5432  samples_000017_0_1_1.png  synthetic_MVTec   screw           None   \n",
       "5433  samples_000017_1_1_1.png  synthetic_MVTec   screw           None   \n",
       "\n",
       "type                                              image  \\\n",
       "0                 ./Defect_Spectrum/DS-DAGM/image/0.png   \n",
       "1     ./Defect_Spectrum/DS-MVTec/bottle/image/broken...   \n",
       "2     ./Defect_Spectrum/DS-MVTec/bottle/image/broken...   \n",
       "3     ./Defect_Spectrum/DS-MVTec/bottle/image/contam...   \n",
       "4     ./Defect_Spectrum/DS-MVTec/bottle/image/good/0...   \n",
       "...                                                 ...   \n",
       "5429  ./Defect_Spectrum/synthetic_MVTec/screw/images...   \n",
       "5430  ./Defect_Spectrum/synthetic_MVTec/screw/images...   \n",
       "5431  ./Defect_Spectrum/synthetic_MVTec/screw/images...   \n",
       "5432  ./Defect_Spectrum/synthetic_MVTec/screw/images...   \n",
       "5433  ./Defect_Spectrum/synthetic_MVTec/screw/images...   \n",
       "\n",
       "type                                               mask  \n",
       "0     ./Defect_Spectrum/DS-DAGM/rbg_mask/0_rgb_mask.png  \n",
       "1     ./Defect_Spectrum/DS-MVTec/bottle/rbg_mask/bro...  \n",
       "2     ./Defect_Spectrum/DS-MVTec/bottle/rbg_mask/bro...  \n",
       "3     ./Defect_Spectrum/DS-MVTec/bottle/rbg_mask/con...  \n",
       "4                                                   NaN  \n",
       "...                                                 ...  \n",
       "5429  ./Defect_Spectrum/synthetic_MVTec/screw/masks/...  \n",
       "5430  ./Defect_Spectrum/synthetic_MVTec/screw/masks/...  \n",
       "5431  ./Defect_Spectrum/synthetic_MVTec/screw/masks/...  \n",
       "5432  ./Defect_Spectrum/synthetic_MVTec/screw/masks/...  \n",
       "5433  ./Defect_Spectrum/synthetic_MVTec/screw/masks/...  \n",
       "\n",
       "[5434 rows x 6 columns]"
      ],
      "text/html": [
       "<div>\n",
       "<style scoped>\n",
       "    .dataframe tbody tr th:only-of-type {\n",
       "        vertical-align: middle;\n",
       "    }\n",
       "\n",
       "    .dataframe tbody tr th {\n",
       "        vertical-align: top;\n",
       "    }\n",
       "\n",
       "    .dataframe thead th {\n",
       "        text-align: right;\n",
       "    }\n",
       "</style>\n",
       "<table border=\"1\" class=\"dataframe\">\n",
       "  <thead>\n",
       "    <tr style=\"text-align: right;\">\n",
       "      <th>type</th>\n",
       "      <th>file_name</th>\n",
       "      <th>dataset</th>\n",
       "      <th>variant</th>\n",
       "      <th>part</th>\n",
       "      <th>image</th>\n",
       "      <th>mask</th>\n",
       "    </tr>\n",
       "  </thead>\n",
       "  <tbody>\n",
       "    <tr>\n",
       "      <th>0</th>\n",
       "      <td>0.png</td>\n",
       "      <td>DS-DAGM</td>\n",
       "      <td>None</td>\n",
       "      <td>None</td>\n",
       "      <td>./Defect_Spectrum/DS-DAGM/image/0.png</td>\n",
       "      <td>./Defect_Spectrum/DS-DAGM/rbg_mask/0_rgb_mask.png</td>\n",
       "    </tr>\n",
       "    <tr>\n",
       "      <th>1</th>\n",
       "      <td>000.png</td>\n",
       "      <td>DS-MVTec</td>\n",
       "      <td>bottle</td>\n",
       "      <td>broken_large</td>\n",
       "      <td>./Defect_Spectrum/DS-MVTec/bottle/image/broken...</td>\n",
       "      <td>./Defect_Spectrum/DS-MVTec/bottle/rbg_mask/bro...</td>\n",
       "    </tr>\n",
       "    <tr>\n",
       "      <th>2</th>\n",
       "      <td>000.png</td>\n",
       "      <td>DS-MVTec</td>\n",
       "      <td>bottle</td>\n",
       "      <td>broken_small</td>\n",
       "      <td>./Defect_Spectrum/DS-MVTec/bottle/image/broken...</td>\n",
       "      <td>./Defect_Spectrum/DS-MVTec/bottle/rbg_mask/bro...</td>\n",
       "    </tr>\n",
       "    <tr>\n",
       "      <th>3</th>\n",
       "      <td>000.png</td>\n",
       "      <td>DS-MVTec</td>\n",
       "      <td>bottle</td>\n",
       "      <td>contamination</td>\n",
       "      <td>./Defect_Spectrum/DS-MVTec/bottle/image/contam...</td>\n",
       "      <td>./Defect_Spectrum/DS-MVTec/bottle/rbg_mask/con...</td>\n",
       "    </tr>\n",
       "    <tr>\n",
       "      <th>4</th>\n",
       "      <td>000.png</td>\n",
       "      <td>DS-MVTec</td>\n",
       "      <td>bottle</td>\n",
       "      <td>good</td>\n",
       "      <td>./Defect_Spectrum/DS-MVTec/bottle/image/good/0...</td>\n",
       "      <td>NaN</td>\n",
       "    </tr>\n",
       "    <tr>\n",
       "      <th>...</th>\n",
       "      <td>...</td>\n",
       "      <td>...</td>\n",
       "      <td>...</td>\n",
       "      <td>...</td>\n",
       "      <td>...</td>\n",
       "      <td>...</td>\n",
       "    </tr>\n",
       "    <tr>\n",
       "      <th>5429</th>\n",
       "      <td>samples_000016_1_0_1.png</td>\n",
       "      <td>synthetic_MVTec</td>\n",
       "      <td>screw</td>\n",
       "      <td>None</td>\n",
       "      <td>./Defect_Spectrum/synthetic_MVTec/screw/images...</td>\n",
       "      <td>./Defect_Spectrum/synthetic_MVTec/screw/masks/...</td>\n",
       "    </tr>\n",
       "    <tr>\n",
       "      <th>5430</th>\n",
       "      <td>samples_000016_1_1_1.png</td>\n",
       "      <td>synthetic_MVTec</td>\n",
       "      <td>screw</td>\n",
       "      <td>None</td>\n",
       "      <td>./Defect_Spectrum/synthetic_MVTec/screw/images...</td>\n",
       "      <td>./Defect_Spectrum/synthetic_MVTec/screw/masks/...</td>\n",
       "    </tr>\n",
       "    <tr>\n",
       "      <th>5431</th>\n",
       "      <td>samples_000017_0_0_1.png</td>\n",
       "      <td>synthetic_MVTec</td>\n",
       "      <td>screw</td>\n",
       "      <td>None</td>\n",
       "      <td>./Defect_Spectrum/synthetic_MVTec/screw/images...</td>\n",
       "      <td>./Defect_Spectrum/synthetic_MVTec/screw/masks/...</td>\n",
       "    </tr>\n",
       "    <tr>\n",
       "      <th>5432</th>\n",
       "      <td>samples_000017_0_1_1.png</td>\n",
       "      <td>synthetic_MVTec</td>\n",
       "      <td>screw</td>\n",
       "      <td>None</td>\n",
       "      <td>./Defect_Spectrum/synthetic_MVTec/screw/images...</td>\n",
       "      <td>./Defect_Spectrum/synthetic_MVTec/screw/masks/...</td>\n",
       "    </tr>\n",
       "    <tr>\n",
       "      <th>5433</th>\n",
       "      <td>samples_000017_1_1_1.png</td>\n",
       "      <td>synthetic_MVTec</td>\n",
       "      <td>screw</td>\n",
       "      <td>None</td>\n",
       "      <td>./Defect_Spectrum/synthetic_MVTec/screw/images...</td>\n",
       "      <td>./Defect_Spectrum/synthetic_MVTec/screw/masks/...</td>\n",
       "    </tr>\n",
       "  </tbody>\n",
       "</table>\n",
       "<p>5434 rows × 6 columns</p>\n",
       "</div>"
      ]
     },
     "execution_count": 5,
     "metadata": {},
     "output_type": "execute_result"
    }
   ],
   "execution_count": 5
  },
  {
   "metadata": {
    "ExecuteTime": {
     "end_time": "2025-05-28T10:31:35.804516Z",
     "start_time": "2025-05-28T10:31:35.801030Z"
    }
   },
   "cell_type": "code",
   "source": [
    "result=result[[\"image\",\"mask\",\"dataset\",\"variant\",\"part\"]]\n",
    "result=result.rename(columns={\"mask\":\"mask_image\",\"variant\":\"object\",\"part\":\"defect\"})\n",
    "len(result)"
   ],
   "id": "a8930e2c8bb7c435",
   "outputs": [
    {
     "data": {
      "text/plain": [
       "5434"
      ]
     },
     "execution_count": 6,
     "metadata": {},
     "output_type": "execute_result"
    }
   ],
   "execution_count": 6
  },
  {
   "metadata": {
    "ExecuteTime": {
     "end_time": "2025-05-28T10:31:35.825818Z",
     "start_time": "2025-05-28T10:31:35.820666Z"
    }
   },
   "cell_type": "code",
   "source": [
    "new_df = pd.DataFrame()\n",
    "new_df[\"image\"]=result.image.tolist()\n",
    "new_df[\"mask_image\"]=result.mask_image.tolist()\n",
    "new_df[\"dataset\"]=result.dataset.tolist()\n",
    "new_df[\"object\"]=result.object.tolist()\n",
    "new_df[\"defect\"]=result.defect.tolist()\n",
    "new_df[\"name\"]=new_df.image.apply(lambda x: str(x).split(\"/\")[-1])"
   ],
   "id": "fba1f216b2ba66bf",
   "outputs": [],
   "execution_count": 7
  },
  {
   "metadata": {
    "ExecuteTime": {
     "end_time": "2025-05-28T10:31:35.953941Z",
     "start_time": "2025-05-28T10:31:35.859411Z"
    }
   },
   "cell_type": "code",
   "source": [
    "captions=pd.read_excel(\"./Defect_Spectrum/DS-MVTec/captions.xlsx\")\n",
    "df_split = captions['Path'].str.split('/', expand=True)\n",
    "df_split.columns = ['object', 'defect', 'name']\n",
    "captions = pd.concat([captions, df_split], axis=1)\n",
    "captions=captions[[\"name\",\"object\",\"defect\",'object description',\"defect description\"]]\n",
    "captions=captions.rename(columns={\"object description\":\"object_description\",\"defect description\":\"defect_description\"})"
   ],
   "id": "ebde7cf17e06c154",
   "outputs": [
    {
     "name": "stderr",
     "output_type": "stream",
     "text": [
      "/Users/hamed/miniconda3/envs/Simens/lib/python3.10/site-packages/openpyxl/worksheet/header_footer.py:48: UserWarning: Cannot parse header or footer so it will be ignored\n",
      "  warn(\"\"\"Cannot parse header or footer so it will be ignored\"\"\")\n"
     ]
    }
   ],
   "execution_count": 8
  },
  {
   "metadata": {
    "ExecuteTime": {
     "end_time": "2025-05-28T10:31:35.969652Z",
     "start_time": "2025-05-28T10:31:35.962094Z"
    }
   },
   "cell_type": "code",
   "source": [
    "final_df = pd.merge(new_df, captions, on=['defect', 'object', 'name'], how='outer')\n",
    "final_df = final_df.drop('name', axis=1)\n",
    "final_df = final_df.dropna(subset=['image','mask_image']).reset_index(drop=True)"
   ],
   "id": "4586551e9925c062",
   "outputs": [],
   "execution_count": 9
  },
  {
   "metadata": {
    "ExecuteTime": {
     "end_time": "2025-05-28T10:31:36.233979Z",
     "start_time": "2025-05-28T10:31:35.979955Z"
    }
   },
   "cell_type": "code",
   "source": [
    "from datasets import Dataset\n",
    "\n",
    "hf_dataset = Dataset.from_pandas(final_df)"
   ],
   "id": "f6a994c394d4a918",
   "outputs": [],
   "execution_count": 10
  },
  {
   "metadata": {
    "ExecuteTime": {
     "end_time": "2025-05-28T10:31:36.248400Z",
     "start_time": "2025-05-28T10:31:36.240912Z"
    }
   },
   "cell_type": "code",
   "source": [
    "from datasets import Dataset, Features, Image, Value\n",
    "\n",
    "features = Features({\n",
    "    \"image\": Image(),          # will load the main image from path\n",
    "    \"mask_image\": Image(),     # will load the mask image from path\n",
    "    \"dataset\": Value(\"string\"),\n",
    "    \"object\": Value(\"string\"),\n",
    "    \"defect\": Value(\"string\"),\n",
    "    \"object_description\": Value(\"string\"),\n",
    "    \"defect_description\": Value(\"string\"),\n",
    "})\n",
    "\n",
    "hf_dataset = Dataset.from_pandas(final_df, features=features)\n"
   ],
   "id": "2b9dce4e50df2ece",
   "outputs": [],
   "execution_count": 11
  },
  {
   "metadata": {
    "ExecuteTime": {
     "end_time": "2025-05-28T10:31:36.257124Z",
     "start_time": "2025-05-28T10:31:36.255067Z"
    }
   },
   "cell_type": "code",
   "source": "len(hf_dataset)",
   "id": "cef2878c0ae0c0b",
   "outputs": [
    {
     "data": {
      "text/plain": [
       "3416"
      ]
     },
     "execution_count": 12,
     "metadata": {},
     "output_type": "execute_result"
    }
   ],
   "execution_count": 12
  },
  {
   "metadata": {
    "ExecuteTime": {
     "end_time": "2025-05-28T10:31:36.563799Z",
     "start_time": "2025-05-28T10:31:36.266974Z"
    }
   },
   "cell_type": "code",
   "source": [
    "from huggingface_hub import login\n",
    "\n",
    "login(token=\".....\")"
   ],
   "id": "91ab25bbc6037173",
   "outputs": [],
   "execution_count": 13
  },
  {
   "metadata": {
    "ExecuteTime": {
     "end_time": "2025-05-28T10:32:18.681150Z",
     "start_time": "2025-05-28T10:31:36.571369Z"
    }
   },
   "cell_type": "code",
   "source": [
    "\n",
    "# Define the repo name\n",
    "repo_name = \"hamedrahimi/Defect_Spectrum_cleaned\"\n",
    "\n",
    "# Push dataset to the Hub\n",
    "hf_dataset.push_to_hub(repo_name)"
   ],
   "id": "fa8d0636a6de0a95",
   "outputs": [
    {
     "data": {
      "text/plain": [
       "Uploading the dataset shards:   0%|          | 0/1 [00:00<?, ?it/s]"
      ],
      "application/vnd.jupyter.widget-view+json": {
       "version_major": 2,
       "version_minor": 0,
       "model_id": "57c988fb91d8423f916a53a94cfea46f"
      }
     },
     "metadata": {},
     "output_type": "display_data"
    },
    {
     "data": {
      "text/plain": [
       "Map:   0%|          | 0/3416 [00:00<?, ? examples/s]"
      ],
      "application/vnd.jupyter.widget-view+json": {
       "version_major": 2,
       "version_minor": 0,
       "model_id": "08f63c0dd400421bb65ead9b20fca7d3"
      }
     },
     "metadata": {},
     "output_type": "display_data"
    },
    {
     "data": {
      "text/plain": [
       "Creating parquet from Arrow format:   0%|          | 0/35 [00:00<?, ?ba/s]"
      ],
      "application/vnd.jupyter.widget-view+json": {
       "version_major": 2,
       "version_minor": 0,
       "model_id": "35a4399114d24fc0a57f2b8b6dbcc25f"
      }
     },
     "metadata": {},
     "output_type": "display_data"
    },
    {
     "data": {
      "text/plain": [
       "CommitInfo(commit_url='https://huggingface.co/datasets/hamedrahimi/Defect_Spectrum_cleaned/commit/0af4b9b32a3239c1c87fdfdb687e73359fa1dcfc', commit_message='Upload dataset', commit_description='', oid='0af4b9b32a3239c1c87fdfdb687e73359fa1dcfc', pr_url=None, repo_url=RepoUrl('https://huggingface.co/datasets/hamedrahimi/Defect_Spectrum_cleaned', endpoint='https://huggingface.co', repo_type='dataset', repo_id='hamedrahimi/Defect_Spectrum_cleaned'), pr_revision=None, pr_num=None)"
      ]
     },
     "execution_count": 14,
     "metadata": {},
     "output_type": "execute_result"
    }
   ],
   "execution_count": 14
  },
  {
   "metadata": {
    "ExecuteTime": {
     "end_time": "2025-05-28T10:32:18.700335Z",
     "start_time": "2025-05-28T10:32:18.698824Z"
    }
   },
   "cell_type": "code",
   "source": "",
   "id": "9c9c5c0eb3255b02",
   "outputs": [],
   "execution_count": null
  }
 ],
 "metadata": {
  "kernelspec": {
   "display_name": "Python 3",
   "language": "python",
   "name": "python3"
  },
  "language_info": {
   "codemirror_mode": {
    "name": "ipython",
    "version": 2
   },
   "file_extension": ".py",
   "mimetype": "text/x-python",
   "name": "python",
   "nbconvert_exporter": "python",
   "pygments_lexer": "ipython2",
   "version": "2.7.6"
  }
 },
 "nbformat": 4,
 "nbformat_minor": 5
}

{
 "cells": [
  {
   "cell_type": "code",
   "id": "initial_id",
   "metadata": {
    "collapsed": true,
    "ExecuteTime": {
     "end_time": "2025-06-03T22:21:02.832403Z",
     "start_time": "2025-06-03T22:21:02.618963Z"
    }
   },
   "source": [
    "from datasets import load_dataset\n",
    "\n",
    "ds = load_dataset(\"hamedrahimi/Defect_Spectrum_cleaned\")\n",
    "ds"
   ],
   "outputs": [
    {
     "name": "stderr",
     "output_type": "stream",
     "text": [
      "Using the latest cached version of the dataset since hamedrahimi/Defect_Spectrum_cleaned couldn't be found on the Hugging Face Hub\n",
      "Found the latest cached dataset configuration 'default' at /Users/hamed/.cache/huggingface/datasets/hamedrahimi___defect_spectrum_cleaned/default/0.0.0/0af4b9b32a3239c1c87fdfdb687e73359fa1dcfc (last modified on Thu May 29 00:34:06 2025).\n"
     ]
    },
    {
     "data": {
      "text/plain": [
       "DatasetDict({\n",
       "    train: Dataset({\n",
       "        features: ['image', 'mask_image', 'dataset', 'object', 'defect', 'object_description', 'defect_description'],\n",
       "        num_rows: 3416\n",
       "    })\n",
       "})"
      ]
     },
     "execution_count": 4,
     "metadata": {},
     "output_type": "execute_result"
    }
   ],
   "execution_count": 4
  },
  {
   "metadata": {
    "ExecuteTime": {
     "end_time": "2025-06-03T22:22:29.114218Z",
     "start_time": "2025-06-03T22:22:11.104984Z"
    }
   },
   "cell_type": "code",
   "source": [
    "from datasets import Dataset  # or load_dataset if needed\n",
    "import math\n",
    "\n",
    "columns_to_check = [\"object_description\", \"defect_description\"]  # replace with your actual column names\n",
    "\n",
    "def is_valid(example):\n",
    "    for col in columns_to_check:\n",
    "        val = example[col]\n",
    "        if val is None or (isinstance(val, float) and math.isnan(val)):\n",
    "            return False\n",
    "    return True\n",
    "\n",
    "filtered_ds = ds.filter(is_valid)\n"
   ],
   "id": "aaaad1076d5ff0d8",
   "outputs": [
    {
     "data": {
      "text/plain": [
       "Filter:   0%|          | 0/3416 [00:00<?, ? examples/s]"
      ],
      "application/vnd.jupyter.widget-view+json": {
       "version_major": 2,
       "version_minor": 0,
       "model_id": "705f2922f5334fe2a19dbd21c6572e85"
      }
     },
     "metadata": {},
     "output_type": "display_data"
    }
   ],
   "execution_count": 6
  },
  {
   "metadata": {
    "ExecuteTime": {
     "end_time": "2025-06-03T22:22:45.972015Z",
     "start_time": "2025-06-03T22:22:45.954556Z"
    }
   },
   "cell_type": "code",
   "source": "filtered_ds[\"train\"][0]",
   "id": "6b7d31d69511aa4c",
   "outputs": [
    {
     "data": {
      "text/plain": [
       "{'image': <PIL.PngImagePlugin.PngImageFile image mode=L size=1024x1024>,\n",
       " 'mask_image': <PIL.PngImagePlugin.PngImageFile image mode=RGB size=1024x1024>,\n",
       " 'dataset': 'DS-MVTec',\n",
       " 'object': 'grid',\n",
       " 'defect': 'bent',\n",
       " 'object_description': 'The image depicts a piece of metal grid.',\n",
       " 'defect_description': 'In the upper left corner, the metal mesh is compressed and twisted, shaped like a net, in silver color. In the upper right corner, the metal mesh is similarly compressed and twisted, as well as in the lower left corner.'}"
      ]
     },
     "execution_count": 9,
     "metadata": {},
     "output_type": "execute_result"
    }
   ],
   "execution_count": 9
  },
  {
   "metadata": {},
   "cell_type": "code",
   "outputs": [],
   "execution_count": null,
   "source": [
    "# you need to log in to huggingface for having access to flux\n",
    "\n",
    "from huggingface_hub import login\n",
    "\n",
    "login(token=\".....\")"
   ],
   "id": "83aff79ab7c55fb"
  },
  {
   "metadata": {},
   "cell_type": "code",
   "outputs": [],
   "execution_count": null,
   "source": [
    "import torch\n",
    "from diffusers import FluxPipeline\n",
    "\n",
    "pipe = FluxPipeline.from_pretrained(\"black-forest-labs/FLUX.1-schnell\", torch_dtype=torch.bfloat16)\n",
    "\n",
    "pipe.enable_model_cpu_offload() #save some VRAM by offloading the model to CPU. Remove this if you have enough GPU power"
   ],
   "id": "6062ca4ce51adf3f"
  },
  {
   "metadata": {},
   "cell_type": "code",
   "source": [
    "#Testing\n",
    "\n",
    "prompt= \" \".join([filtered_ds[\"train\"][0][\"object_description\"],filtered_ds[\"train\"][0][\"defect_description\"]])\n",
    "\n",
    "image = pipe(\n",
    "    prompt,\n",
    "    height=1024,\n",
    "    width=1024,\n",
    "    guidance_scale=3.5,\n",
    "    num_inference_steps=50,\n",
    "    max_sequence_length=512,\n",
    "    generator=torch.Generator(\"cuda\").manual_seed(0)\n",
    ").images[0]\n",
    "\n",
    "image.save(\"defect.png\")"
   ],
   "id": "488e1c557f614ec6",
   "outputs": [],
   "execution_count": null
  }
 ],
 "metadata": {
  "kernelspec": {
   "display_name": "Python 3",
   "language": "python",
   "name": "python3"
  },
  "language_info": {
   "codemirror_mode": {
    "name": "ipython",
    "version": 2
   },
   "file_extension": ".py",
   "mimetype": "text/x-python",
   "name": "python",
   "nbconvert_exporter": "python",
   "pygments_lexer": "ipython2",
   "version": "2.7.6"
  }
 },
 "nbformat": 4,
 "nbformat_minor": 5
}
